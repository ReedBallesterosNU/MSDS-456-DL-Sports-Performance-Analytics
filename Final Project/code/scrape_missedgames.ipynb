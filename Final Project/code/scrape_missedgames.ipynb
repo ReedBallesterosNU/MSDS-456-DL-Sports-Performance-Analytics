{
 "cells": [
  {
   "cell_type": "code",
   "execution_count": 1,
   "id": "f34d6538",
   "metadata": {},
   "outputs": [],
   "source": [
    "#import packages for scraping\n",
    "import os\n",
    "import requests\n",
    "import pandas as pd\n",
    "import time\n",
    "from bs4 import BeautifulSoup\n"
   ]
  },
  {
   "cell_type": "code",
   "execution_count": 2,
   "id": "a3e6a487",
   "metadata": {},
   "outputs": [],
   "source": [
    "#------- User Inputs -----------------------\n",
    "#save path and output filename\n",
    "savepath = 'raw/'\n",
    "filename = 'prosportstransactions_scrape_missedgames_2019_2023.csv'\n",
    "\n",
    "#URL to scrape from \n",
    "url = \"https://www.prosportstransactions.com/basketball/Search/SearchResults.php?Player=&Team=&BeginDate=2019-07-01&EndDate=2023-03-01&InjuriesChkBx=yes&PersonalChkBx=yes&Submit=Search\"\n",
    "#Note that only the first subset of results is shown on this webpage. The remainder of the data is broken out into a number of web pages that are linked at the bottom. "
   ]
  },
  {
   "cell_type": "code",
   "execution_count": 3,
   "id": "6d83559a",
   "metadata": {},
   "outputs": [
    {
     "name": "stdout",
     "output_type": "stream",
     "text": [
      "<Response [200]>\n"
     ]
    }
   ],
   "source": [
    "#-------------Scrape web page--------------------------------------\n",
    "\n",
    "#Get URL HTML\n",
    "response = requests.get(url)\n",
    "print(response) # Response [200] means it went through\n",
    "\n",
    "#Parse HTML with BeautifulSoup\n",
    "soup = BeautifulSoup(response.text, \"html.parser\")"
   ]
  },
  {
   "cell_type": "code",
   "execution_count": 4,
   "id": "0906e34f",
   "metadata": {},
   "outputs": [],
   "source": [
    "#-------------Scrape data from the first web page----------------\n",
    "#Read in html as pandas data frame\n",
    "df_first_page = pd.read_html(response.text)\n",
    "    \n",
    "#Select table of interest (the first table)\n",
    "df_first_page = df_first_page[0]\n",
    "\n",
    "#Drop first row (column names)\n",
    "df_first_page.drop([0], inplace = True)\n",
    "   \n",
    "#Remove bullet in front of player names\n",
    "df_first_page[2]=df_first_page[2].str[2:] # \"Acquired\" column\n",
    "df_first_page[3]=df_first_page[3].str[2:] # \"Relinquished\" column\n",
    "    \n",
    "#Modify column titles\n",
    "df_first_page.columns = ['Date','Team','Acquired','Relinquished','Notes']\n",
    "\n",
    "#data frame to hold data\n",
    "appended_data = df_first_page"
   ]
  },
  {
   "cell_type": "code",
   "execution_count": null,
   "id": "8f3d5222",
   "metadata": {},
   "outputs": [],
   "source": []
  },
  {
   "cell_type": "code",
   "execution_count": 5,
   "id": "90b96217",
   "metadata": {},
   "outputs": [
    {
     "data": {
      "text/plain": [
       "25"
      ]
     },
     "execution_count": 5,
     "metadata": {},
     "output_type": "execute_result"
    }
   ],
   "source": [
    "appended_data.shape[0]"
   ]
  },
  {
   "cell_type": "code",
   "execution_count": null,
   "id": "569d381e",
   "metadata": {},
   "outputs": [],
   "source": []
  },
  {
   "cell_type": "code",
   "execution_count": 6,
   "id": "60066650",
   "metadata": {},
   "outputs": [
    {
     "name": "stdout",
     "output_type": "stream",
     "text": [
      "https://www.prosportstransactions.com/basketball/Search/SearchResults.php?Player=&Team=&BeginDate=2019-07-01&EndDate=2023-03-01&InjuriesChkBx=yes&PersonalChkBx=yes&Submit=Search&start=25\n",
      "https://www.prosportstransactions.com/basketball/Search/SearchResults.php?Player=&Team=&BeginDate=2019-07-01&EndDate=2023-03-01&InjuriesChkBx=yes&PersonalChkBx=yes&Submit=Search&start=50\n",
      "https://www.prosportstransactions.com/basketball/Search/SearchResults.php?Player=&Team=&BeginDate=2019-07-01&EndDate=2023-03-01&InjuriesChkBx=yes&PersonalChkBx=yes&Submit=Search&start=75\n",
      "https://www.prosportstransactions.com/basketball/Search/SearchResults.php?Player=&Team=&BeginDate=2019-07-01&EndDate=2023-03-01&InjuriesChkBx=yes&PersonalChkBx=yes&Submit=Search&start=100\n",
      "https://www.prosportstransactions.com/basketball/Search/SearchResults.php?Player=&Team=&BeginDate=2019-07-01&EndDate=2023-03-01&InjuriesChkBx=yes&PersonalChkBx=yes&Submit=Search&start=125\n",
      "https://www.prosportstransactions.com/basketball/Search/SearchResults.php?Player=&Team=&BeginDate=2019-07-01&EndDate=2023-03-01&InjuriesChkBx=yes&PersonalChkBx=yes&Submit=Search&start=150\n",
      "https://www.prosportstransactions.com/basketball/Search/SearchResults.php?Player=&Team=&BeginDate=2019-07-01&EndDate=2023-03-01&InjuriesChkBx=yes&PersonalChkBx=yes&Submit=Search&start=175\n",
      "https://www.prosportstransactions.com/basketball/Search/SearchResults.php?Player=&Team=&BeginDate=2019-07-01&EndDate=2023-03-01&InjuriesChkBx=yes&PersonalChkBx=yes&Submit=Search&start=200\n",
      "https://www.prosportstransactions.com/basketball/Search/SearchResults.php?Player=&Team=&BeginDate=2019-07-01&EndDate=2023-03-01&InjuriesChkBx=yes&PersonalChkBx=yes&Submit=Search&start=225\n",
      "https://www.prosportstransactions.com/basketball/Search/SearchResults.php?Player=&Team=&BeginDate=2019-07-01&EndDate=2023-03-01&InjuriesChkBx=yes&PersonalChkBx=yes&Submit=Search&start=250\n",
      "https://www.prosportstransactions.com/basketball/Search/SearchResults.php?Player=&Team=&BeginDate=2019-07-01&EndDate=2023-03-01&InjuriesChkBx=yes&PersonalChkBx=yes&Submit=Search&start=275\n",
      "https://www.prosportstransactions.com/basketball/Search/SearchResults.php?Player=&Team=&BeginDate=2019-07-01&EndDate=2023-03-01&InjuriesChkBx=yes&PersonalChkBx=yes&Submit=Search&start=300\n",
      "https://www.prosportstransactions.com/basketball/Search/SearchResults.php?Player=&Team=&BeginDate=2019-07-01&EndDate=2023-03-01&InjuriesChkBx=yes&PersonalChkBx=yes&Submit=Search&start=325\n",
      "https://www.prosportstransactions.com/basketball/Search/SearchResults.php?Player=&Team=&BeginDate=2019-07-01&EndDate=2023-03-01&InjuriesChkBx=yes&PersonalChkBx=yes&Submit=Search&start=350\n",
      "https://www.prosportstransactions.com/basketball/Search/SearchResults.php?Player=&Team=&BeginDate=2019-07-01&EndDate=2023-03-01&InjuriesChkBx=yes&PersonalChkBx=yes&Submit=Search&start=375\n",
      "https://www.prosportstransactions.com/basketball/Search/SearchResults.php?Player=&Team=&BeginDate=2019-07-01&EndDate=2023-03-01&InjuriesChkBx=yes&PersonalChkBx=yes&Submit=Search&start=400\n",
      "https://www.prosportstransactions.com/basketball/Search/SearchResults.php?Player=&Team=&BeginDate=2019-07-01&EndDate=2023-03-01&InjuriesChkBx=yes&PersonalChkBx=yes&Submit=Search&start=425\n",
      "https://www.prosportstransactions.com/basketball/Search/SearchResults.php?Player=&Team=&BeginDate=2019-07-01&EndDate=2023-03-01&InjuriesChkBx=yes&PersonalChkBx=yes&Submit=Search&start=450\n",
      "https://www.prosportstransactions.com/basketball/Search/SearchResults.php?Player=&Team=&BeginDate=2019-07-01&EndDate=2023-03-01&InjuriesChkBx=yes&PersonalChkBx=yes&Submit=Search&start=475\n",
      "https://www.prosportstransactions.com/basketball/Search/SearchResults.php?Player=&Team=&BeginDate=2019-07-01&EndDate=2023-03-01&InjuriesChkBx=yes&PersonalChkBx=yes&Submit=Search&start=500\n",
      "https://www.prosportstransactions.com/basketball/Search/SearchResults.php?Player=&Team=&BeginDate=2019-07-01&EndDate=2023-03-01&InjuriesChkBx=yes&PersonalChkBx=yes&Submit=Search&start=525\n",
      "https://www.prosportstransactions.com/basketball/Search/SearchResults.php?Player=&Team=&BeginDate=2019-07-01&EndDate=2023-03-01&InjuriesChkBx=yes&PersonalChkBx=yes&Submit=Search&start=550\n",
      "https://www.prosportstransactions.com/basketball/Search/SearchResults.php?Player=&Team=&BeginDate=2019-07-01&EndDate=2023-03-01&InjuriesChkBx=yes&PersonalChkBx=yes&Submit=Search&start=575\n",
      "https://www.prosportstransactions.com/basketball/Search/SearchResults.php?Player=&Team=&BeginDate=2019-07-01&EndDate=2023-03-01&InjuriesChkBx=yes&PersonalChkBx=yes&Submit=Search&start=600\n",
      "https://www.prosportstransactions.com/basketball/Search/SearchResults.php?Player=&Team=&BeginDate=2019-07-01&EndDate=2023-03-01&InjuriesChkBx=yes&PersonalChkBx=yes&Submit=Search&start=625\n",
      "https://www.prosportstransactions.com/basketball/Search/SearchResults.php?Player=&Team=&BeginDate=2019-07-01&EndDate=2023-03-01&InjuriesChkBx=yes&PersonalChkBx=yes&Submit=Search&start=650\n",
      "https://www.prosportstransactions.com/basketball/Search/SearchResults.php?Player=&Team=&BeginDate=2019-07-01&EndDate=2023-03-01&InjuriesChkBx=yes&PersonalChkBx=yes&Submit=Search&start=675\n",
      "https://www.prosportstransactions.com/basketball/Search/SearchResults.php?Player=&Team=&BeginDate=2019-07-01&EndDate=2023-03-01&InjuriesChkBx=yes&PersonalChkBx=yes&Submit=Search&start=700\n",
      "https://www.prosportstransactions.com/basketball/Search/SearchResults.php?Player=&Team=&BeginDate=2019-07-01&EndDate=2023-03-01&InjuriesChkBx=yes&PersonalChkBx=yes&Submit=Search&start=725\n",
      "https://www.prosportstransactions.com/basketball/Search/SearchResults.php?Player=&Team=&BeginDate=2019-07-01&EndDate=2023-03-01&InjuriesChkBx=yes&PersonalChkBx=yes&Submit=Search&start=750\n",
      "https://www.prosportstransactions.com/basketball/Search/SearchResults.php?Player=&Team=&BeginDate=2019-07-01&EndDate=2023-03-01&InjuriesChkBx=yes&PersonalChkBx=yes&Submit=Search&start=775\n",
      "https://www.prosportstransactions.com/basketball/Search/SearchResults.php?Player=&Team=&BeginDate=2019-07-01&EndDate=2023-03-01&InjuriesChkBx=yes&PersonalChkBx=yes&Submit=Search&start=800\n",
      "https://www.prosportstransactions.com/basketball/Search/SearchResults.php?Player=&Team=&BeginDate=2019-07-01&EndDate=2023-03-01&InjuriesChkBx=yes&PersonalChkBx=yes&Submit=Search&start=825\n",
      "https://www.prosportstransactions.com/basketball/Search/SearchResults.php?Player=&Team=&BeginDate=2019-07-01&EndDate=2023-03-01&InjuriesChkBx=yes&PersonalChkBx=yes&Submit=Search&start=850\n",
      "https://www.prosportstransactions.com/basketball/Search/SearchResults.php?Player=&Team=&BeginDate=2019-07-01&EndDate=2023-03-01&InjuriesChkBx=yes&PersonalChkBx=yes&Submit=Search&start=875\n",
      "https://www.prosportstransactions.com/basketball/Search/SearchResults.php?Player=&Team=&BeginDate=2019-07-01&EndDate=2023-03-01&InjuriesChkBx=yes&PersonalChkBx=yes&Submit=Search&start=900\n",
      "https://www.prosportstransactions.com/basketball/Search/SearchResults.php?Player=&Team=&BeginDate=2019-07-01&EndDate=2023-03-01&InjuriesChkBx=yes&PersonalChkBx=yes&Submit=Search&start=925\n",
      "https://www.prosportstransactions.com/basketball/Search/SearchResults.php?Player=&Team=&BeginDate=2019-07-01&EndDate=2023-03-01&InjuriesChkBx=yes&PersonalChkBx=yes&Submit=Search&start=950\n",
      "https://www.prosportstransactions.com/basketball/Search/SearchResults.php?Player=&Team=&BeginDate=2019-07-01&EndDate=2023-03-01&InjuriesChkBx=yes&PersonalChkBx=yes&Submit=Search&start=975\n",
      "https://www.prosportstransactions.com/basketball/Search/SearchResults.php?Player=&Team=&BeginDate=2019-07-01&EndDate=2023-03-01&InjuriesChkBx=yes&PersonalChkBx=yes&Submit=Search&start=1000\n",
      "https://www.prosportstransactions.com/basketball/Search/SearchResults.php?Player=&Team=&BeginDate=2019-07-01&EndDate=2023-03-01&InjuriesChkBx=yes&PersonalChkBx=yes&Submit=Search&start=1025\n",
      "https://www.prosportstransactions.com/basketball/Search/SearchResults.php?Player=&Team=&BeginDate=2019-07-01&EndDate=2023-03-01&InjuriesChkBx=yes&PersonalChkBx=yes&Submit=Search&start=1050\n",
      "https://www.prosportstransactions.com/basketball/Search/SearchResults.php?Player=&Team=&BeginDate=2019-07-01&EndDate=2023-03-01&InjuriesChkBx=yes&PersonalChkBx=yes&Submit=Search&start=1075\n",
      "https://www.prosportstransactions.com/basketball/Search/SearchResults.php?Player=&Team=&BeginDate=2019-07-01&EndDate=2023-03-01&InjuriesChkBx=yes&PersonalChkBx=yes&Submit=Search&start=1100\n"
     ]
    },
    {
     "name": "stdout",
     "output_type": "stream",
     "text": [
      "https://www.prosportstransactions.com/basketball/Search/SearchResults.php?Player=&Team=&BeginDate=2019-07-01&EndDate=2023-03-01&InjuriesChkBx=yes&PersonalChkBx=yes&Submit=Search&start=1125\n",
      "https://www.prosportstransactions.com/basketball/Search/SearchResults.php?Player=&Team=&BeginDate=2019-07-01&EndDate=2023-03-01&InjuriesChkBx=yes&PersonalChkBx=yes&Submit=Search&start=1150\n",
      "https://www.prosportstransactions.com/basketball/Search/SearchResults.php?Player=&Team=&BeginDate=2019-07-01&EndDate=2023-03-01&InjuriesChkBx=yes&PersonalChkBx=yes&Submit=Search&start=1175\n",
      "https://www.prosportstransactions.com/basketball/Search/SearchResults.php?Player=&Team=&BeginDate=2019-07-01&EndDate=2023-03-01&InjuriesChkBx=yes&PersonalChkBx=yes&Submit=Search&start=1200\n",
      "https://www.prosportstransactions.com/basketball/Search/SearchResults.php?Player=&Team=&BeginDate=2019-07-01&EndDate=2023-03-01&InjuriesChkBx=yes&PersonalChkBx=yes&Submit=Search&start=1225\n",
      "https://www.prosportstransactions.com/basketball/Search/SearchResults.php?Player=&Team=&BeginDate=2019-07-01&EndDate=2023-03-01&InjuriesChkBx=yes&PersonalChkBx=yes&Submit=Search&start=1250\n",
      "https://www.prosportstransactions.com/basketball/Search/SearchResults.php?Player=&Team=&BeginDate=2019-07-01&EndDate=2023-03-01&InjuriesChkBx=yes&PersonalChkBx=yes&Submit=Search&start=1275\n",
      "https://www.prosportstransactions.com/basketball/Search/SearchResults.php?Player=&Team=&BeginDate=2019-07-01&EndDate=2023-03-01&InjuriesChkBx=yes&PersonalChkBx=yes&Submit=Search&start=1300\n",
      "https://www.prosportstransactions.com/basketball/Search/SearchResults.php?Player=&Team=&BeginDate=2019-07-01&EndDate=2023-03-01&InjuriesChkBx=yes&PersonalChkBx=yes&Submit=Search&start=1325\n",
      "https://www.prosportstransactions.com/basketball/Search/SearchResults.php?Player=&Team=&BeginDate=2019-07-01&EndDate=2023-03-01&InjuriesChkBx=yes&PersonalChkBx=yes&Submit=Search&start=1350\n",
      "https://www.prosportstransactions.com/basketball/Search/SearchResults.php?Player=&Team=&BeginDate=2019-07-01&EndDate=2023-03-01&InjuriesChkBx=yes&PersonalChkBx=yes&Submit=Search&start=1375\n",
      "https://www.prosportstransactions.com/basketball/Search/SearchResults.php?Player=&Team=&BeginDate=2019-07-01&EndDate=2023-03-01&InjuriesChkBx=yes&PersonalChkBx=yes&Submit=Search&start=1400\n",
      "https://www.prosportstransactions.com/basketball/Search/SearchResults.php?Player=&Team=&BeginDate=2019-07-01&EndDate=2023-03-01&InjuriesChkBx=yes&PersonalChkBx=yes&Submit=Search&start=1425\n",
      "https://www.prosportstransactions.com/basketball/Search/SearchResults.php?Player=&Team=&BeginDate=2019-07-01&EndDate=2023-03-01&InjuriesChkBx=yes&PersonalChkBx=yes&Submit=Search&start=1450\n",
      "https://www.prosportstransactions.com/basketball/Search/SearchResults.php?Player=&Team=&BeginDate=2019-07-01&EndDate=2023-03-01&InjuriesChkBx=yes&PersonalChkBx=yes&Submit=Search&start=1475\n",
      "https://www.prosportstransactions.com/basketball/Search/SearchResults.php?Player=&Team=&BeginDate=2019-07-01&EndDate=2023-03-01&InjuriesChkBx=yes&PersonalChkBx=yes&Submit=Search&start=1500\n",
      "https://www.prosportstransactions.com/basketball/Search/SearchResults.php?Player=&Team=&BeginDate=2019-07-01&EndDate=2023-03-01&InjuriesChkBx=yes&PersonalChkBx=yes&Submit=Search&start=1525\n",
      "https://www.prosportstransactions.com/basketball/Search/SearchResults.php?Player=&Team=&BeginDate=2019-07-01&EndDate=2023-03-01&InjuriesChkBx=yes&PersonalChkBx=yes&Submit=Search&start=1550\n",
      "https://www.prosportstransactions.com/basketball/Search/SearchResults.php?Player=&Team=&BeginDate=2019-07-01&EndDate=2023-03-01&InjuriesChkBx=yes&PersonalChkBx=yes&Submit=Search&start=1575\n",
      "https://www.prosportstransactions.com/basketball/Search/SearchResults.php?Player=&Team=&BeginDate=2019-07-01&EndDate=2023-03-01&InjuriesChkBx=yes&PersonalChkBx=yes&Submit=Search&start=1600\n",
      "https://www.prosportstransactions.com/basketball/Search/SearchResults.php?Player=&Team=&BeginDate=2019-07-01&EndDate=2023-03-01&InjuriesChkBx=yes&PersonalChkBx=yes&Submit=Search&start=1625\n",
      "https://www.prosportstransactions.com/basketball/Search/SearchResults.php?Player=&Team=&BeginDate=2019-07-01&EndDate=2023-03-01&InjuriesChkBx=yes&PersonalChkBx=yes&Submit=Search&start=1650\n",
      "https://www.prosportstransactions.com/basketball/Search/SearchResults.php?Player=&Team=&BeginDate=2019-07-01&EndDate=2023-03-01&InjuriesChkBx=yes&PersonalChkBx=yes&Submit=Search&start=1675\n",
      "https://www.prosportstransactions.com/basketball/Search/SearchResults.php?Player=&Team=&BeginDate=2019-07-01&EndDate=2023-03-01&InjuriesChkBx=yes&PersonalChkBx=yes&Submit=Search&start=1700\n",
      "https://www.prosportstransactions.com/basketball/Search/SearchResults.php?Player=&Team=&BeginDate=2019-07-01&EndDate=2023-03-01&InjuriesChkBx=yes&PersonalChkBx=yes&Submit=Search&start=1725\n",
      "https://www.prosportstransactions.com/basketball/Search/SearchResults.php?Player=&Team=&BeginDate=2019-07-01&EndDate=2023-03-01&InjuriesChkBx=yes&PersonalChkBx=yes&Submit=Search&start=1750\n",
      "https://www.prosportstransactions.com/basketball/Search/SearchResults.php?Player=&Team=&BeginDate=2019-07-01&EndDate=2023-03-01&InjuriesChkBx=yes&PersonalChkBx=yes&Submit=Search&start=1775\n",
      "https://www.prosportstransactions.com/basketball/Search/SearchResults.php?Player=&Team=&BeginDate=2019-07-01&EndDate=2023-03-01&InjuriesChkBx=yes&PersonalChkBx=yes&Submit=Search&start=1800\n",
      "https://www.prosportstransactions.com/basketball/Search/SearchResults.php?Player=&Team=&BeginDate=2019-07-01&EndDate=2023-03-01&InjuriesChkBx=yes&PersonalChkBx=yes&Submit=Search&start=1825\n",
      "https://www.prosportstransactions.com/basketball/Search/SearchResults.php?Player=&Team=&BeginDate=2019-07-01&EndDate=2023-03-01&InjuriesChkBx=yes&PersonalChkBx=yes&Submit=Search&start=1850\n",
      "https://www.prosportstransactions.com/basketball/Search/SearchResults.php?Player=&Team=&BeginDate=2019-07-01&EndDate=2023-03-01&InjuriesChkBx=yes&PersonalChkBx=yes&Submit=Search&start=1875\n",
      "https://www.prosportstransactions.com/basketball/Search/SearchResults.php?Player=&Team=&BeginDate=2019-07-01&EndDate=2023-03-01&InjuriesChkBx=yes&PersonalChkBx=yes&Submit=Search&start=1900\n",
      "https://www.prosportstransactions.com/basketball/Search/SearchResults.php?Player=&Team=&BeginDate=2019-07-01&EndDate=2023-03-01&InjuriesChkBx=yes&PersonalChkBx=yes&Submit=Search&start=1925\n",
      "https://www.prosportstransactions.com/basketball/Search/SearchResults.php?Player=&Team=&BeginDate=2019-07-01&EndDate=2023-03-01&InjuriesChkBx=yes&PersonalChkBx=yes&Submit=Search&start=1950\n",
      "https://www.prosportstransactions.com/basketball/Search/SearchResults.php?Player=&Team=&BeginDate=2019-07-01&EndDate=2023-03-01&InjuriesChkBx=yes&PersonalChkBx=yes&Submit=Search&start=1975\n",
      "https://www.prosportstransactions.com/basketball/Search/SearchResults.php?Player=&Team=&BeginDate=2019-07-01&EndDate=2023-03-01&InjuriesChkBx=yes&PersonalChkBx=yes&Submit=Search&start=2000\n",
      "https://www.prosportstransactions.com/basketball/Search/SearchResults.php?Player=&Team=&BeginDate=2019-07-01&EndDate=2023-03-01&InjuriesChkBx=yes&PersonalChkBx=yes&Submit=Search&start=2025\n",
      "https://www.prosportstransactions.com/basketball/Search/SearchResults.php?Player=&Team=&BeginDate=2019-07-01&EndDate=2023-03-01&InjuriesChkBx=yes&PersonalChkBx=yes&Submit=Search&start=2050\n",
      "https://www.prosportstransactions.com/basketball/Search/SearchResults.php?Player=&Team=&BeginDate=2019-07-01&EndDate=2023-03-01&InjuriesChkBx=yes&PersonalChkBx=yes&Submit=Search&start=2075\n",
      "https://www.prosportstransactions.com/basketball/Search/SearchResults.php?Player=&Team=&BeginDate=2019-07-01&EndDate=2023-03-01&InjuriesChkBx=yes&PersonalChkBx=yes&Submit=Search&start=2100\n",
      "https://www.prosportstransactions.com/basketball/Search/SearchResults.php?Player=&Team=&BeginDate=2019-07-01&EndDate=2023-03-01&InjuriesChkBx=yes&PersonalChkBx=yes&Submit=Search&start=2125\n",
      "https://www.prosportstransactions.com/basketball/Search/SearchResults.php?Player=&Team=&BeginDate=2019-07-01&EndDate=2023-03-01&InjuriesChkBx=yes&PersonalChkBx=yes&Submit=Search&start=2150\n",
      "https://www.prosportstransactions.com/basketball/Search/SearchResults.php?Player=&Team=&BeginDate=2019-07-01&EndDate=2023-03-01&InjuriesChkBx=yes&PersonalChkBx=yes&Submit=Search&start=2175\n",
      "https://www.prosportstransactions.com/basketball/Search/SearchResults.php?Player=&Team=&BeginDate=2019-07-01&EndDate=2023-03-01&InjuriesChkBx=yes&PersonalChkBx=yes&Submit=Search&start=2200\n"
     ]
    },
    {
     "name": "stdout",
     "output_type": "stream",
     "text": [
      "https://www.prosportstransactions.com/basketball/Search/SearchResults.php?Player=&Team=&BeginDate=2019-07-01&EndDate=2023-03-01&InjuriesChkBx=yes&PersonalChkBx=yes&Submit=Search&start=2225\n",
      "https://www.prosportstransactions.com/basketball/Search/SearchResults.php?Player=&Team=&BeginDate=2019-07-01&EndDate=2023-03-01&InjuriesChkBx=yes&PersonalChkBx=yes&Submit=Search&start=2250\n",
      "https://www.prosportstransactions.com/basketball/Search/SearchResults.php?Player=&Team=&BeginDate=2019-07-01&EndDate=2023-03-01&InjuriesChkBx=yes&PersonalChkBx=yes&Submit=Search&start=2275\n",
      "https://www.prosportstransactions.com/basketball/Search/SearchResults.php?Player=&Team=&BeginDate=2019-07-01&EndDate=2023-03-01&InjuriesChkBx=yes&PersonalChkBx=yes&Submit=Search&start=2300\n",
      "https://www.prosportstransactions.com/basketball/Search/SearchResults.php?Player=&Team=&BeginDate=2019-07-01&EndDate=2023-03-01&InjuriesChkBx=yes&PersonalChkBx=yes&Submit=Search&start=2325\n",
      "https://www.prosportstransactions.com/basketball/Search/SearchResults.php?Player=&Team=&BeginDate=2019-07-01&EndDate=2023-03-01&InjuriesChkBx=yes&PersonalChkBx=yes&Submit=Search&start=2350\n",
      "https://www.prosportstransactions.com/basketball/Search/SearchResults.php?Player=&Team=&BeginDate=2019-07-01&EndDate=2023-03-01&InjuriesChkBx=yes&PersonalChkBx=yes&Submit=Search&start=2375\n",
      "https://www.prosportstransactions.com/basketball/Search/SearchResults.php?Player=&Team=&BeginDate=2019-07-01&EndDate=2023-03-01&InjuriesChkBx=yes&PersonalChkBx=yes&Submit=Search&start=2400\n",
      "https://www.prosportstransactions.com/basketball/Search/SearchResults.php?Player=&Team=&BeginDate=2019-07-01&EndDate=2023-03-01&InjuriesChkBx=yes&PersonalChkBx=yes&Submit=Search&start=2425\n",
      "https://www.prosportstransactions.com/basketball/Search/SearchResults.php?Player=&Team=&BeginDate=2019-07-01&EndDate=2023-03-01&InjuriesChkBx=yes&PersonalChkBx=yes&Submit=Search&start=2450\n",
      "https://www.prosportstransactions.com/basketball/Search/SearchResults.php?Player=&Team=&BeginDate=2019-07-01&EndDate=2023-03-01&InjuriesChkBx=yes&PersonalChkBx=yes&Submit=Search&start=2475\n",
      "https://www.prosportstransactions.com/basketball/Search/SearchResults.php?Player=&Team=&BeginDate=2019-07-01&EndDate=2023-03-01&InjuriesChkBx=yes&PersonalChkBx=yes&Submit=Search&start=2500\n",
      "https://www.prosportstransactions.com/basketball/Search/SearchResults.php?Player=&Team=&BeginDate=2019-07-01&EndDate=2023-03-01&InjuriesChkBx=yes&PersonalChkBx=yes&Submit=Search&start=2525\n",
      "https://www.prosportstransactions.com/basketball/Search/SearchResults.php?Player=&Team=&BeginDate=2019-07-01&EndDate=2023-03-01&InjuriesChkBx=yes&PersonalChkBx=yes&Submit=Search&start=2550\n",
      "https://www.prosportstransactions.com/basketball/Search/SearchResults.php?Player=&Team=&BeginDate=2019-07-01&EndDate=2023-03-01&InjuriesChkBx=yes&PersonalChkBx=yes&Submit=Search&start=2575\n",
      "https://www.prosportstransactions.com/basketball/Search/SearchResults.php?Player=&Team=&BeginDate=2019-07-01&EndDate=2023-03-01&InjuriesChkBx=yes&PersonalChkBx=yes&Submit=Search&start=2600\n",
      "https://www.prosportstransactions.com/basketball/Search/SearchResults.php?Player=&Team=&BeginDate=2019-07-01&EndDate=2023-03-01&InjuriesChkBx=yes&PersonalChkBx=yes&Submit=Search&start=2625\n",
      "https://www.prosportstransactions.com/basketball/Search/SearchResults.php?Player=&Team=&BeginDate=2019-07-01&EndDate=2023-03-01&InjuriesChkBx=yes&PersonalChkBx=yes&Submit=Search&start=2650\n",
      "https://www.prosportstransactions.com/basketball/Search/SearchResults.php?Player=&Team=&BeginDate=2019-07-01&EndDate=2023-03-01&InjuriesChkBx=yes&PersonalChkBx=yes&Submit=Search&start=2675\n",
      "https://www.prosportstransactions.com/basketball/Search/SearchResults.php?Player=&Team=&BeginDate=2019-07-01&EndDate=2023-03-01&InjuriesChkBx=yes&PersonalChkBx=yes&Submit=Search&start=2700\n",
      "https://www.prosportstransactions.com/basketball/Search/SearchResults.php?Player=&Team=&BeginDate=2019-07-01&EndDate=2023-03-01&InjuriesChkBx=yes&PersonalChkBx=yes&Submit=Search&start=2725\n",
      "https://www.prosportstransactions.com/basketball/Search/SearchResults.php?Player=&Team=&BeginDate=2019-07-01&EndDate=2023-03-01&InjuriesChkBx=yes&PersonalChkBx=yes&Submit=Search&start=2750\n",
      "https://www.prosportstransactions.com/basketball/Search/SearchResults.php?Player=&Team=&BeginDate=2019-07-01&EndDate=2023-03-01&InjuriesChkBx=yes&PersonalChkBx=yes&Submit=Search&start=2775\n",
      "https://www.prosportstransactions.com/basketball/Search/SearchResults.php?Player=&Team=&BeginDate=2019-07-01&EndDate=2023-03-01&InjuriesChkBx=yes&PersonalChkBx=yes&Submit=Search&start=2800\n",
      "https://www.prosportstransactions.com/basketball/Search/SearchResults.php?Player=&Team=&BeginDate=2019-07-01&EndDate=2023-03-01&InjuriesChkBx=yes&PersonalChkBx=yes&Submit=Search&start=2825\n",
      "https://www.prosportstransactions.com/basketball/Search/SearchResults.php?Player=&Team=&BeginDate=2019-07-01&EndDate=2023-03-01&InjuriesChkBx=yes&PersonalChkBx=yes&Submit=Search&start=2850\n",
      "https://www.prosportstransactions.com/basketball/Search/SearchResults.php?Player=&Team=&BeginDate=2019-07-01&EndDate=2023-03-01&InjuriesChkBx=yes&PersonalChkBx=yes&Submit=Search&start=2875\n",
      "https://www.prosportstransactions.com/basketball/Search/SearchResults.php?Player=&Team=&BeginDate=2019-07-01&EndDate=2023-03-01&InjuriesChkBx=yes&PersonalChkBx=yes&Submit=Search&start=2900\n"
     ]
    }
   ],
   "source": [
    "#------------Scrape data from other pages linked at the bottom of the first page------------\n",
    "# Loop over links (skipping the first 4 (not data) and last 4 (\"Next\" and other webpage links))\n",
    "for i in range(4,len(soup.findAll('a'))-4): #'a' tags are for links\n",
    "   \n",
    "    #find all links on webpage and select the i-th link\n",
    "    one_a_tag = soup.findAll('a')[i]\n",
    "    link = one_a_tag['href']\n",
    "    \n",
    "    #Add in the rest of the url\n",
    "    download_url = 'https://www.prosportstransactions.com/basketball/Search/'+ link\n",
    "    print(download_url)\n",
    "    this_response = requests.get(download_url)\n",
    "    \n",
    "    #Read html as pandas data frame\n",
    "    dfs = pd.read_html(this_response.text)\n",
    "    \n",
    "    #Select table of interest (the first table)\n",
    "    df = dfs[0]\n",
    "    \n",
    "    #Drop first row (column names)\n",
    "    df.drop([0], inplace = True)\n",
    "   \n",
    "    #Remove bullet in front of names\n",
    "    df[2]=df[2].str[2:] # \"Acquired\" column\n",
    "    df[3]=df[3].str[2:] # \"Relinquished\" column\n",
    "    \n",
    "    #Modify column titles\n",
    "    df.columns = ['Date','Team','Acquired','Relinquished','Notes']\n",
    "    \n",
    "    #Append data frame \n",
    "    appended_data=pd.concat([appended_data,df], ignore_index=True)\n",
    "    \n",
    "    #Add a pause to keep web server happy\n",
    "    time.sleep(3)"
   ]
  },
  {
   "cell_type": "code",
   "execution_count": null,
   "id": "414496ee",
   "metadata": {},
   "outputs": [],
   "source": []
  },
  {
   "cell_type": "code",
   "execution_count": null,
   "id": "2d873952",
   "metadata": {},
   "outputs": [],
   "source": []
  },
  {
   "cell_type": "code",
   "execution_count": 7,
   "id": "920bb8c0",
   "metadata": {},
   "outputs": [
    {
     "data": {
      "text/plain": [
       "2915"
      ]
     },
     "execution_count": 7,
     "metadata": {},
     "output_type": "execute_result"
    }
   ],
   "source": [
    "appended_data.shape[0]"
   ]
  },
  {
   "cell_type": "code",
   "execution_count": null,
   "id": "1daa1ef0",
   "metadata": {},
   "outputs": [],
   "source": []
  },
  {
   "cell_type": "code",
   "execution_count": null,
   "id": "575b1371",
   "metadata": {},
   "outputs": [],
   "source": []
  },
  {
   "cell_type": "code",
   "execution_count": 8,
   "id": "1eb374b2",
   "metadata": {},
   "outputs": [
    {
     "name": "stdout",
     "output_type": "stream",
     "text": [
      "Saving files......\n",
      "Finished\n"
     ]
    }
   ],
   "source": [
    "#-----------------------Save file----------------------------------------\n",
    "print('Saving files......')\n",
    "\n",
    "filename= os.path.join(savepath,filename)\n",
    "appended_data.to_csv(filename)\n",
    "\n",
    "print('Finished')"
   ]
  },
  {
   "cell_type": "code",
   "execution_count": null,
   "id": "c7063098",
   "metadata": {},
   "outputs": [],
   "source": []
  },
  {
   "cell_type": "code",
   "execution_count": null,
   "id": "ed01ff11",
   "metadata": {},
   "outputs": [],
   "source": []
  },
  {
   "cell_type": "code",
   "execution_count": null,
   "id": "470ea2a6",
   "metadata": {},
   "outputs": [],
   "source": []
  },
  {
   "cell_type": "code",
   "execution_count": null,
   "id": "389bc576",
   "metadata": {},
   "outputs": [],
   "source": []
  },
  {
   "cell_type": "code",
   "execution_count": null,
   "id": "512d45f2",
   "metadata": {},
   "outputs": [],
   "source": []
  },
  {
   "cell_type": "code",
   "execution_count": null,
   "id": "7d0fe645",
   "metadata": {},
   "outputs": [],
   "source": []
  },
  {
   "cell_type": "code",
   "execution_count": null,
   "id": "91e40f57",
   "metadata": {},
   "outputs": [],
   "source": []
  },
  {
   "cell_type": "code",
   "execution_count": null,
   "id": "00ee4a9b",
   "metadata": {},
   "outputs": [],
   "source": []
  },
  {
   "cell_type": "code",
   "execution_count": null,
   "id": "9f47d9ce",
   "metadata": {},
   "outputs": [],
   "source": []
  },
  {
   "cell_type": "code",
   "execution_count": null,
   "id": "e92f0783",
   "metadata": {},
   "outputs": [],
   "source": []
  },
  {
   "cell_type": "code",
   "execution_count": null,
   "id": "1b058a2b",
   "metadata": {},
   "outputs": [],
   "source": []
  },
  {
   "cell_type": "code",
   "execution_count": null,
   "id": "ca7dabd7",
   "metadata": {},
   "outputs": [],
   "source": []
  },
  {
   "cell_type": "code",
   "execution_count": null,
   "id": "ada1a0d8",
   "metadata": {},
   "outputs": [],
   "source": []
  },
  {
   "cell_type": "code",
   "execution_count": null,
   "id": "24f17060",
   "metadata": {},
   "outputs": [],
   "source": []
  },
  {
   "cell_type": "code",
   "execution_count": null,
   "id": "c559d377",
   "metadata": {},
   "outputs": [],
   "source": []
  },
  {
   "cell_type": "code",
   "execution_count": null,
   "id": "9235015b",
   "metadata": {},
   "outputs": [],
   "source": []
  },
  {
   "cell_type": "code",
   "execution_count": null,
   "id": "f7021bb5",
   "metadata": {},
   "outputs": [],
   "source": []
  },
  {
   "cell_type": "code",
   "execution_count": null,
   "id": "9d46bb48",
   "metadata": {},
   "outputs": [],
   "source": []
  },
  {
   "cell_type": "code",
   "execution_count": null,
   "id": "1defe131",
   "metadata": {},
   "outputs": [],
   "source": []
  },
  {
   "cell_type": "code",
   "execution_count": null,
   "id": "5573f9d8",
   "metadata": {},
   "outputs": [],
   "source": []
  },
  {
   "cell_type": "code",
   "execution_count": null,
   "id": "08a34991",
   "metadata": {},
   "outputs": [],
   "source": []
  },
  {
   "cell_type": "code",
   "execution_count": null,
   "id": "cabbba85",
   "metadata": {},
   "outputs": [],
   "source": []
  },
  {
   "cell_type": "code",
   "execution_count": null,
   "id": "15e65fc4",
   "metadata": {},
   "outputs": [],
   "source": []
  },
  {
   "cell_type": "code",
   "execution_count": null,
   "id": "55e3bb66",
   "metadata": {},
   "outputs": [],
   "source": []
  },
  {
   "cell_type": "code",
   "execution_count": null,
   "id": "bce226d5",
   "metadata": {},
   "outputs": [],
   "source": []
  },
  {
   "cell_type": "code",
   "execution_count": null,
   "id": "c51784b1",
   "metadata": {},
   "outputs": [],
   "source": []
  },
  {
   "cell_type": "code",
   "execution_count": null,
   "id": "3e3ab115",
   "metadata": {},
   "outputs": [],
   "source": []
  },
  {
   "cell_type": "code",
   "execution_count": null,
   "id": "ec61d24c",
   "metadata": {},
   "outputs": [],
   "source": []
  },
  {
   "cell_type": "code",
   "execution_count": null,
   "id": "d89480ce",
   "metadata": {},
   "outputs": [],
   "source": []
  },
  {
   "cell_type": "code",
   "execution_count": null,
   "id": "2c684cc1",
   "metadata": {},
   "outputs": [],
   "source": []
  },
  {
   "cell_type": "code",
   "execution_count": null,
   "id": "3e2e3770",
   "metadata": {},
   "outputs": [],
   "source": []
  },
  {
   "cell_type": "code",
   "execution_count": null,
   "id": "75ec96b1",
   "metadata": {},
   "outputs": [],
   "source": []
  },
  {
   "cell_type": "code",
   "execution_count": null,
   "id": "aef0cadc",
   "metadata": {},
   "outputs": [],
   "source": []
  },
  {
   "cell_type": "code",
   "execution_count": null,
   "id": "d1974d0a",
   "metadata": {},
   "outputs": [],
   "source": []
  },
  {
   "cell_type": "code",
   "execution_count": null,
   "id": "84d9f648",
   "metadata": {},
   "outputs": [],
   "source": []
  },
  {
   "cell_type": "code",
   "execution_count": null,
   "id": "94913949",
   "metadata": {},
   "outputs": [],
   "source": []
  }
 ],
 "metadata": {
  "kernelspec": {
   "display_name": "Python 3 (ipykernel)",
   "language": "python",
   "name": "python3"
  },
  "language_info": {
   "codemirror_mode": {
    "name": "ipython",
    "version": 3
   },
   "file_extension": ".py",
   "mimetype": "text/x-python",
   "name": "python",
   "nbconvert_exporter": "python",
   "pygments_lexer": "ipython3",
   "version": "3.9.12"
  }
 },
 "nbformat": 4,
 "nbformat_minor": 5
}
